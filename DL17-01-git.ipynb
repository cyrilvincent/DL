{
 "cells": [
  {
   "cell_type": "code",
   "execution_count": 4,
   "metadata": {
    "colab": {
     "base_uri": "https://localhost:8080/",
     "height": 168
    },
    "colab_type": "code",
    "executionInfo": {
     "elapsed": 40205,
     "status": "ok",
     "timestamp": 1591687870302,
     "user": {
      "displayName": "Cyril Vincent",
      "photoUrl": "",
      "userId": "11684947983570556386"
     },
     "user_tz": -120
    },
    "id": "RWtgSVj5-myJ",
    "outputId": "ddab5895-b30a-4d44-85ff-1617e2100327"
   },
   "outputs": [
    {
     "name": "stdout",
     "output_type": "stream",
     "text": [
      "mkdir: cannot create directory ‘/content/sample_data/git’: File exists\n",
      "Cloning into '/content/sample_data/git'...\n",
      "remote: Enumerating objects: 159, done.\u001b[K\n",
      "remote: Counting objects: 100% (159/159), done.\u001b[K\n",
      "remote: Compressing objects: 100% (123/123), done.\u001b[K\n",
      "remote: Total 36902 (delta 72), reused 96 (delta 34), pack-reused 36743\u001b[K\n",
      "Receiving objects: 100% (36902/36902), 683.18 MiB | 26.92 MiB/s, done.\n",
      "Resolving deltas: 100% (377/377), done.\n",
      "Checking out files: 100% (31277/31277), done.\n"
     ]
    }
   ],
   "source": [
    "!git clone https://github.com/cyrilvincent/DL /content/sample_data/git"
   ]
  }
 ],
 "metadata": {
  "colab": {
   "authorship_tag": "ABX9TyP42EEN+/sJ5tqQ9gGLvBxB",
   "name": "git.ipynb",
   "provenance": []
  },
  "kernelspec": {
   "display_name": "Python 3",
   "language": "python",
   "name": "python3"
  },
  "language_info": {
   "codemirror_mode": {
    "name": "ipython",
    "version": 3
   },
   "file_extension": ".py",
   "mimetype": "text/x-python",
   "name": "python",
   "nbconvert_exporter": "python",
   "pygments_lexer": "ipython3",
   "version": "3.7.6"
  }
 },
 "nbformat": 4,
 "nbformat_minor": 1
}
